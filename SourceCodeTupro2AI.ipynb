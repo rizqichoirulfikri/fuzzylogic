{
  "nbformat": 4,
  "nbformat_minor": 0,
  "metadata": {
    "colab": {
      "name": "Tupro2AI.ipynb",
      "provenance": [],
      "collapsed_sections": []
    },
    "kernelspec": {
      "name": "python3",
      "display_name": "Python 3"
    }
  },
  "cells": [
    {
      "cell_type": "code",
      "metadata": {
        "id": "5umr-x-t1ZPf"
      },
      "source": [
        "import pandas as pd\n",
        "import numpy as np\n",
        "import io\n",
        "from google.colab import files\n",
        "import matplotlib.pyplot as plt"
      ],
      "execution_count": 61,
      "outputs": []
    },
    {
      "cell_type": "code",
      "metadata": {
        "id": "nGHVQ-OSKSRv",
        "outputId": "0d926834-40fc-48d1-8a0f-10cb135913b8",
        "colab": {
          "resources": {
            "http://localhost:8080/nbextensions/google.colab/files.js": {
              "data": "Ly8gQ29weXJpZ2h0IDIwMTcgR29vZ2xlIExMQwovLwovLyBMaWNlbnNlZCB1bmRlciB0aGUgQXBhY2hlIExpY2Vuc2UsIFZlcnNpb24gMi4wICh0aGUgIkxpY2Vuc2UiKTsKLy8geW91IG1heSBub3QgdXNlIHRoaXMgZmlsZSBleGNlcHQgaW4gY29tcGxpYW5jZSB3aXRoIHRoZSBMaWNlbnNlLgovLyBZb3UgbWF5IG9idGFpbiBhIGNvcHkgb2YgdGhlIExpY2Vuc2UgYXQKLy8KLy8gICAgICBodHRwOi8vd3d3LmFwYWNoZS5vcmcvbGljZW5zZXMvTElDRU5TRS0yLjAKLy8KLy8gVW5sZXNzIHJlcXVpcmVkIGJ5IGFwcGxpY2FibGUgbGF3IG9yIGFncmVlZCB0byBpbiB3cml0aW5nLCBzb2Z0d2FyZQovLyBkaXN0cmlidXRlZCB1bmRlciB0aGUgTGljZW5zZSBpcyBkaXN0cmlidXRlZCBvbiBhbiAiQVMgSVMiIEJBU0lTLAovLyBXSVRIT1VUIFdBUlJBTlRJRVMgT1IgQ09ORElUSU9OUyBPRiBBTlkgS0lORCwgZWl0aGVyIGV4cHJlc3Mgb3IgaW1wbGllZC4KLy8gU2VlIHRoZSBMaWNlbnNlIGZvciB0aGUgc3BlY2lmaWMgbGFuZ3VhZ2UgZ292ZXJuaW5nIHBlcm1pc3Npb25zIGFuZAovLyBsaW1pdGF0aW9ucyB1bmRlciB0aGUgTGljZW5zZS4KCi8qKgogKiBAZmlsZW92ZXJ2aWV3IEhlbHBlcnMgZm9yIGdvb2dsZS5jb2xhYiBQeXRob24gbW9kdWxlLgogKi8KKGZ1bmN0aW9uKHNjb3BlKSB7CmZ1bmN0aW9uIHNwYW4odGV4dCwgc3R5bGVBdHRyaWJ1dGVzID0ge30pIHsKICBjb25zdCBlbGVtZW50ID0gZG9jdW1lbnQuY3JlYXRlRWxlbWVudCgnc3BhbicpOwogIGVsZW1lbnQudGV4dENvbnRlbnQgPSB0ZXh0OwogIGZvciAoY29uc3Qga2V5IG9mIE9iamVjdC5rZXlzKHN0eWxlQXR0cmlidXRlcykpIHsKICAgIGVsZW1lbnQuc3R5bGVba2V5XSA9IHN0eWxlQXR0cmlidXRlc1trZXldOwogIH0KICByZXR1cm4gZWxlbWVudDsKfQoKLy8gTWF4IG51bWJlciBvZiBieXRlcyB3aGljaCB3aWxsIGJlIHVwbG9hZGVkIGF0IGEgdGltZS4KY29uc3QgTUFYX1BBWUxPQURfU0laRSA9IDEwMCAqIDEwMjQ7CgpmdW5jdGlvbiBfdXBsb2FkRmlsZXMoaW5wdXRJZCwgb3V0cHV0SWQpIHsKICBjb25zdCBzdGVwcyA9IHVwbG9hZEZpbGVzU3RlcChpbnB1dElkLCBvdXRwdXRJZCk7CiAgY29uc3Qgb3V0cHV0RWxlbWVudCA9IGRvY3VtZW50LmdldEVsZW1lbnRCeUlkKG91dHB1dElkKTsKICAvLyBDYWNoZSBzdGVwcyBvbiB0aGUgb3V0cHV0RWxlbWVudCB0byBtYWtlIGl0IGF2YWlsYWJsZSBmb3IgdGhlIG5leHQgY2FsbAogIC8vIHRvIHVwbG9hZEZpbGVzQ29udGludWUgZnJvbSBQeXRob24uCiAgb3V0cHV0RWxlbWVudC5zdGVwcyA9IHN0ZXBzOwoKICByZXR1cm4gX3VwbG9hZEZpbGVzQ29udGludWUob3V0cHV0SWQpOwp9CgovLyBUaGlzIGlzIHJvdWdobHkgYW4gYXN5bmMgZ2VuZXJhdG9yIChub3Qgc3VwcG9ydGVkIGluIHRoZSBicm93c2VyIHlldCksCi8vIHdoZXJlIHRoZXJlIGFyZSBtdWx0aXBsZSBhc3luY2hyb25vdXMgc3RlcHMgYW5kIHRoZSBQeXRob24gc2lkZSBpcyBnb2luZwovLyB0byBwb2xsIGZvciBjb21wbGV0aW9uIG9mIGVhY2ggc3RlcC4KLy8gVGhpcyB1c2VzIGEgUHJvbWlzZSB0byBibG9jayB0aGUgcHl0aG9uIHNpZGUgb24gY29tcGxldGlvbiBvZiBlYWNoIHN0ZXAsCi8vIHRoZW4gcGFzc2VzIHRoZSByZXN1bHQgb2YgdGhlIHByZXZpb3VzIHN0ZXAgYXMgdGhlIGlucHV0IHRvIHRoZSBuZXh0IHN0ZXAuCmZ1bmN0aW9uIF91cGxvYWRGaWxlc0NvbnRpbnVlKG91dHB1dElkKSB7CiAgY29uc3Qgb3V0cHV0RWxlbWVudCA9IGRvY3VtZW50LmdldEVsZW1lbnRCeUlkKG91dHB1dElkKTsKICBjb25zdCBzdGVwcyA9IG91dHB1dEVsZW1lbnQuc3RlcHM7CgogIGNvbnN0IG5leHQgPSBzdGVwcy5uZXh0KG91dHB1dEVsZW1lbnQubGFzdFByb21pc2VWYWx1ZSk7CiAgcmV0dXJuIFByb21pc2UucmVzb2x2ZShuZXh0LnZhbHVlLnByb21pc2UpLnRoZW4oKHZhbHVlKSA9PiB7CiAgICAvLyBDYWNoZSB0aGUgbGFzdCBwcm9taXNlIHZhbHVlIHRvIG1ha2UgaXQgYXZhaWxhYmxlIHRvIHRoZSBuZXh0CiAgICAvLyBzdGVwIG9mIHRoZSBnZW5lcmF0b3IuCiAgICBvdXRwdXRFbGVtZW50Lmxhc3RQcm9taXNlVmFsdWUgPSB2YWx1ZTsKICAgIHJldHVybiBuZXh0LnZhbHVlLnJlc3BvbnNlOwogIH0pOwp9CgovKioKICogR2VuZXJhdG9yIGZ1bmN0aW9uIHdoaWNoIGlzIGNhbGxlZCBiZXR3ZWVuIGVhY2ggYXN5bmMgc3RlcCBvZiB0aGUgdXBsb2FkCiAqIHByb2Nlc3MuCiAqIEBwYXJhbSB7c3RyaW5nfSBpbnB1dElkIEVsZW1lbnQgSUQgb2YgdGhlIGlucHV0IGZpbGUgcGlja2VyIGVsZW1lbnQuCiAqIEBwYXJhbSB7c3RyaW5nfSBvdXRwdXRJZCBFbGVtZW50IElEIG9mIHRoZSBvdXRwdXQgZGlzcGxheS4KICogQHJldHVybiB7IUl0ZXJhYmxlPCFPYmplY3Q+fSBJdGVyYWJsZSBvZiBuZXh0IHN0ZXBzLgogKi8KZnVuY3Rpb24qIHVwbG9hZEZpbGVzU3RlcChpbnB1dElkLCBvdXRwdXRJZCkgewogIGNvbnN0IGlucHV0RWxlbWVudCA9IGRvY3VtZW50LmdldEVsZW1lbnRCeUlkKGlucHV0SWQpOwogIGlucHV0RWxlbWVudC5kaXNhYmxlZCA9IGZhbHNlOwoKICBjb25zdCBvdXRwdXRFbGVtZW50ID0gZG9jdW1lbnQuZ2V0RWxlbWVudEJ5SWQob3V0cHV0SWQpOwogIG91dHB1dEVsZW1lbnQuaW5uZXJIVE1MID0gJyc7CgogIGNvbnN0IHBpY2tlZFByb21pc2UgPSBuZXcgUHJvbWlzZSgocmVzb2x2ZSkgPT4gewogICAgaW5wdXRFbGVtZW50LmFkZEV2ZW50TGlzdGVuZXIoJ2NoYW5nZScsIChlKSA9PiB7CiAgICAgIHJlc29sdmUoZS50YXJnZXQuZmlsZXMpOwogICAgfSk7CiAgfSk7CgogIGNvbnN0IGNhbmNlbCA9IGRvY3VtZW50LmNyZWF0ZUVsZW1lbnQoJ2J1dHRvbicpOwogIGlucHV0RWxlbWVudC5wYXJlbnRFbGVtZW50LmFwcGVuZENoaWxkKGNhbmNlbCk7CiAgY2FuY2VsLnRleHRDb250ZW50ID0gJ0NhbmNlbCB1cGxvYWQnOwogIGNvbnN0IGNhbmNlbFByb21pc2UgPSBuZXcgUHJvbWlzZSgocmVzb2x2ZSkgPT4gewogICAgY2FuY2VsLm9uY2xpY2sgPSAoKSA9PiB7CiAgICAgIHJlc29sdmUobnVsbCk7CiAgICB9OwogIH0pOwoKICAvLyBXYWl0IGZvciB0aGUgdXNlciB0byBwaWNrIHRoZSBmaWxlcy4KICBjb25zdCBmaWxlcyA9IHlpZWxkIHsKICAgIHByb21pc2U6IFByb21pc2UucmFjZShbcGlja2VkUHJvbWlzZSwgY2FuY2VsUHJvbWlzZV0pLAogICAgcmVzcG9uc2U6IHsKICAgICAgYWN0aW9uOiAnc3RhcnRpbmcnLAogICAgfQogIH07CgogIGNhbmNlbC5yZW1vdmUoKTsKCiAgLy8gRGlzYWJsZSB0aGUgaW5wdXQgZWxlbWVudCBzaW5jZSBmdXJ0aGVyIHBpY2tzIGFyZSBub3QgYWxsb3dlZC4KICBpbnB1dEVsZW1lbnQuZGlzYWJsZWQgPSB0cnVlOwoKICBpZiAoIWZpbGVzKSB7CiAgICByZXR1cm4gewogICAgICByZXNwb25zZTogewogICAgICAgIGFjdGlvbjogJ2NvbXBsZXRlJywKICAgICAgfQogICAgfTsKICB9CgogIGZvciAoY29uc3QgZmlsZSBvZiBmaWxlcykgewogICAgY29uc3QgbGkgPSBkb2N1bWVudC5jcmVhdGVFbGVtZW50KCdsaScpOwogICAgbGkuYXBwZW5kKHNwYW4oZmlsZS5uYW1lLCB7Zm9udFdlaWdodDogJ2JvbGQnfSkpOwogICAgbGkuYXBwZW5kKHNwYW4oCiAgICAgICAgYCgke2ZpbGUudHlwZSB8fCAnbi9hJ30pIC0gJHtmaWxlLnNpemV9IGJ5dGVzLCBgICsKICAgICAgICBgbGFzdCBtb2RpZmllZDogJHsKICAgICAgICAgICAgZmlsZS5sYXN0TW9kaWZpZWREYXRlID8gZmlsZS5sYXN0TW9kaWZpZWREYXRlLnRvTG9jYWxlRGF0ZVN0cmluZygpIDoKICAgICAgICAgICAgICAgICAgICAgICAgICAgICAgICAgICAgJ24vYSd9IC0gYCkpOwogICAgY29uc3QgcGVyY2VudCA9IHNwYW4oJzAlIGRvbmUnKTsKICAgIGxpLmFwcGVuZENoaWxkKHBlcmNlbnQpOwoKICAgIG91dHB1dEVsZW1lbnQuYXBwZW5kQ2hpbGQobGkpOwoKICAgIGNvbnN0IGZpbGVEYXRhUHJvbWlzZSA9IG5ldyBQcm9taXNlKChyZXNvbHZlKSA9PiB7CiAgICAgIGNvbnN0IHJlYWRlciA9IG5ldyBGaWxlUmVhZGVyKCk7CiAgICAgIHJlYWRlci5vbmxvYWQgPSAoZSkgPT4gewogICAgICAgIHJlc29sdmUoZS50YXJnZXQucmVzdWx0KTsKICAgICAgfTsKICAgICAgcmVhZGVyLnJlYWRBc0FycmF5QnVmZmVyKGZpbGUpOwogICAgfSk7CiAgICAvLyBXYWl0IGZvciB0aGUgZGF0YSB0byBiZSByZWFkeS4KICAgIGxldCBmaWxlRGF0YSA9IHlpZWxkIHsKICAgICAgcHJvbWlzZTogZmlsZURhdGFQcm9taXNlLAogICAgICByZXNwb25zZTogewogICAgICAgIGFjdGlvbjogJ2NvbnRpbnVlJywKICAgICAgfQogICAgfTsKCiAgICAvLyBVc2UgYSBjaHVua2VkIHNlbmRpbmcgdG8gYXZvaWQgbWVzc2FnZSBzaXplIGxpbWl0cy4gU2VlIGIvNjIxMTU2NjAuCiAgICBsZXQgcG9zaXRpb24gPSAwOwogICAgd2hpbGUgKHBvc2l0aW9uIDwgZmlsZURhdGEuYnl0ZUxlbmd0aCkgewogICAgICBjb25zdCBsZW5ndGggPSBNYXRoLm1pbihmaWxlRGF0YS5ieXRlTGVuZ3RoIC0gcG9zaXRpb24sIE1BWF9QQVlMT0FEX1NJWkUpOwogICAgICBjb25zdCBjaHVuayA9IG5ldyBVaW50OEFycmF5KGZpbGVEYXRhLCBwb3NpdGlvbiwgbGVuZ3RoKTsKICAgICAgcG9zaXRpb24gKz0gbGVuZ3RoOwoKICAgICAgY29uc3QgYmFzZTY0ID0gYnRvYShTdHJpbmcuZnJvbUNoYXJDb2RlLmFwcGx5KG51bGwsIGNodW5rKSk7CiAgICAgIHlpZWxkIHsKICAgICAgICByZXNwb25zZTogewogICAgICAgICAgYWN0aW9uOiAnYXBwZW5kJywKICAgICAgICAgIGZpbGU6IGZpbGUubmFtZSwKICAgICAgICAgIGRhdGE6IGJhc2U2NCwKICAgICAgICB9LAogICAgICB9OwogICAgICBwZXJjZW50LnRleHRDb250ZW50ID0KICAgICAgICAgIGAke01hdGgucm91bmQoKHBvc2l0aW9uIC8gZmlsZURhdGEuYnl0ZUxlbmd0aCkgKiAxMDApfSUgZG9uZWA7CiAgICB9CiAgfQoKICAvLyBBbGwgZG9uZS4KICB5aWVsZCB7CiAgICByZXNwb25zZTogewogICAgICBhY3Rpb246ICdjb21wbGV0ZScsCiAgICB9CiAgfTsKfQoKc2NvcGUuZ29vZ2xlID0gc2NvcGUuZ29vZ2xlIHx8IHt9OwpzY29wZS5nb29nbGUuY29sYWIgPSBzY29wZS5nb29nbGUuY29sYWIgfHwge307CnNjb3BlLmdvb2dsZS5jb2xhYi5fZmlsZXMgPSB7CiAgX3VwbG9hZEZpbGVzLAogIF91cGxvYWRGaWxlc0NvbnRpbnVlLAp9Owp9KShzZWxmKTsK",
              "ok": true,
              "headers": [
                [
                  "content-type",
                  "application/javascript"
                ]
              ],
              "status": 200,
              "status_text": ""
            }
          },
          "base_uri": "https://localhost:8080/",
          "height": 72
        }
      },
      "source": [
        "uploaded = files.upload()"
      ],
      "execution_count": 62,
      "outputs": [
        {
          "output_type": "display_data",
          "data": {
            "text/html": [
              "\n",
              "     <input type=\"file\" id=\"files-9d87f431-a01e-4f4f-878e-14f85d258199\" name=\"files[]\" multiple disabled\n",
              "        style=\"border:none\" />\n",
              "     <output id=\"result-9d87f431-a01e-4f4f-878e-14f85d258199\">\n",
              "      Upload widget is only available when the cell has been executed in the\n",
              "      current browser session. Please rerun this cell to enable.\n",
              "      </output>\n",
              "      <script src=\"/nbextensions/google.colab/files.js\"></script> "
            ],
            "text/plain": [
              "<IPython.core.display.HTML object>"
            ]
          },
          "metadata": {
            "tags": []
          }
        },
        {
          "output_type": "stream",
          "text": [
            "Saving Mahasiswa.xls to Mahasiswa (2).xls\n"
          ],
          "name": "stdout"
        }
      ]
    },
    {
      "cell_type": "markdown",
      "metadata": {
        "id": "02VWrmmf1VZ4"
      },
      "source": [
        "baca data"
      ]
    },
    {
      "cell_type": "code",
      "metadata": {
        "id": "5Gigq1KWwMrM"
      },
      "source": [
        "df = pd.read_excel(io.BytesIO(uploaded['Mahasiswa.xls']))\n",
        "dama = []\n",
        "for i in range (len(df)):\n",
        "  dama.append([df[\"Id\"][i],df[\"Penghasilan\"][i],df[\"Pengeluaran\"][i]])\n"
      ],
      "execution_count": 63,
      "outputs": []
    },
    {
      "cell_type": "markdown",
      "metadata": {
        "id": "iBSAtKgO3IRp"
      },
      "source": [
        "Membership"
      ]
    },
    {
      "cell_type": "markdown",
      "metadata": {
        "id": "LjNhzTUNzbF5"
      },
      "source": [
        "Penghasilan"
      ]
    },
    {
      "cell_type": "code",
      "metadata": {
        "id": "1Lfnj00E-MfM"
      },
      "source": [
        "def penren(x):\n",
        "  if (x <= 5):\n",
        "    return 1\n",
        "  elif (x > 11):\n",
        "    return 0\n",
        "  else:\n",
        "    return ((11 - x) / (11 - 5))\n",
        "def penting(x):\n",
        "  if (x < 13):\n",
        "    return 0 \n",
        "  elif (x >= 17):\n",
        "    return 1\n",
        "  else:\n",
        "    return ((x - 13) / (17 - 13))\n",
        "def pensed(x):\n",
        "  if (x <= 8) or (x >= 16):\n",
        "    return 0\n",
        "  elif (x < 12 ) and (x > 8):\n",
        "    return ((x - 8)/(16 - 8))\n",
        "  elif (x >= 12 ) and (x < 16):\n",
        "    return -((x - 16)/(16 - 12))\n"
      ],
      "execution_count": 64,
      "outputs": []
    },
    {
      "cell_type": "code",
      "metadata": {
        "id": "yls0Jd-Ww5Tx"
      },
      "source": [
        "def penghasilan(x):\n",
        "  hasil=[]\n",
        "  if (x < 11):\n",
        "    hasil.append((('rendah'), penren(x)))\n",
        "  if (x > 13):\n",
        "    hasil.append((('tinggi'), penting(x)))\n",
        "  if ((x < 16) and (x > 8)):\n",
        "    hasil.append((('sedang'), pensed(x)))\n",
        "  return hasil"
      ],
      "execution_count": 65,
      "outputs": []
    },
    {
      "cell_type": "markdown",
      "metadata": {
        "id": "FwMIs_-nzW9U"
      },
      "source": [
        "Pengeluaran"
      ]
    },
    {
      "cell_type": "code",
      "metadata": {
        "id": "rPngXMCAy_QO"
      },
      "source": [
        "def pengren(x):\n",
        "  if (x <= 4):\n",
        "    return 1\n",
        "  elif (x > 7):\n",
        "    return 0\n",
        "  else:\n",
        "    return ((7 - x) / (7 - 4))\n",
        "def pengting(x):\n",
        "  if (x < 9):\n",
        "    return 0 \n",
        "  elif (x >= 11):\n",
        "    return 1\n",
        "  else:\n",
        "    return ((x - 9) / (11 - 9))\n",
        "def pengsed(x):\n",
        "  if (x <= 6) or (x > 10):\n",
        "    return 0\n",
        "  elif (x <= 10 ) and (x > 6):\n",
        "    return ((x - 6)/(10 - 6))\n",
        "  else:\n",
        "    return -((x - 10)/(10 - 8))"
      ],
      "execution_count": 66,
      "outputs": []
    },
    {
      "cell_type": "code",
      "metadata": {
        "id": "Z4rdjlimzGK_",
        "outputId": "eb37d019-f148-483a-bcb8-f504d877d606",
        "colab": {
          "base_uri": "https://localhost:8080/"
        }
      },
      "source": [
        "def pengeluaran(x):\n",
        "  hasil=[]\n",
        "  if (x < 7):\n",
        "    hasil.append((('rendah'), pengren(x)))\n",
        "  if (x > 9):\n",
        "    hasil.append((('tinggi'), pengting(x)))\n",
        "  if ((x < 10) and (x > 6)):\n",
        "    hasil.append((('sedang'), pengsed(x)))\n",
        "  return hasil"
      ],
      "execution_count": 67,
      "outputs": [
        {
          "output_type": "execute_result",
          "data": {
            "text/plain": [
              "[('rendah', 0.16666666666666666), ('sedang', 0.125)]"
            ]
          },
          "metadata": {
            "tags": []
          },
          "execution_count": 67
        }
      ]
    },
    {
      "cell_type": "markdown",
      "metadata": {
        "id": "WVhztzEMzLfU"
      },
      "source": [
        "![image.png](data:image/png;base64,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)"
      ]
    },
    {
      "cell_type": "code",
      "metadata": {
        "id": "NlhxsUUsytw6",
        "outputId": "1eac7106-aa1a-40e5-a5ef-4d31f52399af",
        "colab": {
          "base_uri": "https://localhost:8080/",
          "height": 35
        }
      },
      "source": [
        "def fuzzyrule(pen, peng):\n",
        "  if ((peng=='rendah') and (pen=='rendah')) or ((peng=='rendah') and (pen=='sedang')) or ((peng=='sedang') and (pen=='rendah')):\n",
        "    return ('Diterima')\n",
        "  elif ((peng=='tinggi') and (pen=='tinggi')) or ((peng=='tinggi') and (pen=='sedang')) or ((peng=='sedang') and (pen=='tinggi')):\n",
        "    return ('Ditolak')\n",
        "  else:\n",
        "    return ('Dipertimbangkan')\n"
      ],
      "execution_count": 68,
      "outputs": [
        {
          "output_type": "execute_result",
          "data": {
            "application/vnd.google.colaboratory.intrinsic+json": {
              "type": "string"
            },
            "text/plain": [
              "'Dipertimbangkan'"
            ]
          },
          "metadata": {
            "tags": []
          },
          "execution_count": 68
        }
      ]
    },
    {
      "cell_type": "code",
      "metadata": {
        "id": "A8pdy4ku357i"
      },
      "source": [
        "def inference(penghasilan, pengeluaran):\n",
        "  hasil = []\n",
        "  if (len(penghasilan) == 1 and len(pengeluaran) == 1):\n",
        "    hasil.append((fuzzyrule(penghasilan[0][0],pengeluaran[0][0]),min(penghasilan[0][1],pengeluaran[0][1])))\n",
        "\n",
        "  elif (len(penghasilan) == 1 and len(pengeluaran) == 2):\n",
        "    hasil.append((fuzzyrule(penghasilan[0][0],pengeluaran[0][0]),min(penghasilan[0][1],pengeluaran[0][1])))\n",
        "    hasil.append((fuzzyrule(penghasilan[0][0],pengeluaran[1][0]),min(penghasilan[0][1],pengeluaran[1][1])))\n",
        "\n",
        "  elif (len(penghasilan) == 2 and len(pengeluaran) == 1):\n",
        "    hasil.append((fuzzyrule(penghasilan[0][0],pengeluaran[0][0]),min(penghasilan[0][1],pengeluaran[0][1])))\n",
        "    hasil.append((fuzzyrule(penghasilan[1][0],pengeluaran[0][0]),min(penghasilan[1][1],pengeluaran[0][1])))\n",
        "\n",
        "  else:\n",
        "    hasil.append((fuzzyrule(penghasilan[0][0],pengeluaran[0][0]),min(penghasilan[0][1],pengeluaran[0][1])))\n",
        "    hasil.append((fuzzyrule(penghasilan[0][0],pengeluaran[1][0]),min(penghasilan[0][1],pengeluaran[1][1])))\n",
        "    hasil.append((fuzzyrule(penghasilan[1][0],pengeluaran[1][0]),min(penghasilan[1][1],pengeluaran[1][1])))\n",
        "    hasil.append((fuzzyrule(penghasilan[1][0],pengeluaran[0][0]),min(penghasilan[1][1],pengeluaran[0][1])))\n",
        "  a = 0\n",
        "  b = 0\n",
        "  c = 0\n",
        "  for i in hasil:\n",
        "    if i[0] == 'Diterima':\n",
        "      if i[1] > a:\n",
        "        a = i[1]\n",
        "    if i[0] == 'Dipertimbangkan':\n",
        "      if i[1] > b:\n",
        "        b = i[1]\n",
        "    if i[0] == 'Ditolak':\n",
        "      if i[1] > c:\n",
        "        c = i[1]\n",
        "    \n",
        "  # if ((hasil[0][0]) == (hasil[1][0])):\n",
        "  #   hasil = max(hasil[0],hasil[1])\n",
        "  return (('Diterima',a),('Dipertimbangkan',b),('Ditolak',c))"
      ],
      "execution_count": 69,
      "outputs": []
    },
    {
      "cell_type": "code",
      "metadata": {
        "id": "KquCa3GxRZu-",
        "outputId": "029e5c18-5047-40f1-f0a6-0a378981689e",
        "colab": {
          "base_uri": "https://localhost:8080/"
        }
      },
      "source": [
        "x = pengeluaran(9.5)\n",
        "y = penghasilan(8.1)\n",
        "x,y\n"
      ],
      "execution_count": 70,
      "outputs": [
        {
          "output_type": "execute_result",
          "data": {
            "text/plain": [
              "([('tinggi', 0.25), ('sedang', 0.875)],\n",
              " [('rendah', 0.4833333333333334), ('sedang', 0.012499999999999956)])"
            ]
          },
          "metadata": {
            "tags": []
          },
          "execution_count": 70
        }
      ]
    },
    {
      "cell_type": "code",
      "metadata": {
        "id": "4AA9YlZYi-hT",
        "outputId": "4003dfac-5372-4ada-fce5-b012cbc1697e",
        "colab": {
          "base_uri": "https://localhost:8080/"
        }
      },
      "source": [
        "inference(y,x)"
      ],
      "execution_count": 71,
      "outputs": [
        {
          "output_type": "execute_result",
          "data": {
            "text/plain": [
              "(('Diterima', 0.4833333333333334),\n",
              " ('Dipertimbangkan', 0.25),\n",
              " ('Ditolak', 0.012499999999999956))"
            ]
          },
          "metadata": {
            "tags": []
          },
          "execution_count": 71
        }
      ]
    },
    {
      "cell_type": "code",
      "metadata": {
        "id": "9sNI_duCjBhn",
        "outputId": "981f6881-1dfc-4e87-8a30-f0c573808400",
        "colab": {
          "base_uri": "https://localhost:8080/"
        }
      },
      "source": [
        "def sugeno(a,b,c):\n",
        "  x= 30\n",
        "  y= 50\n",
        "  z= 80\n",
        "  NK = ((a[1]*x)+(b[1]*y)+(c[1]*z))/(a[1]+b[1]+c[1])\n",
        "  return NK\n",
        "  \n",
        "hasil=inference(y,x) \n",
        "sugeno(hasil[0],hasil[1],hasil[2])"
      ],
      "execution_count": 72,
      "outputs": [
        {
          "output_type": "execute_result",
          "data": {
            "text/plain": [
              "37.541899441340775"
            ]
          },
          "metadata": {
            "tags": []
          },
          "execution_count": 72
        }
      ]
    },
    {
      "cell_type": "code",
      "metadata": {
        "id": "X8nmIJy6psMr",
        "outputId": "717582f5-ac20-4f77-d3d1-51f689d79a3c",
        "colab": {
          "base_uri": "https://localhost:8080/"
        }
      },
      "source": [
        "bantuan = []\n",
        "for i in dama:\n",
        "  hasil = inference(pengeluaran(i[2]),penghasilan(i[1])) \n",
        "  a = sugeno(hasil[0],hasil[1],hasil[2])\n",
        "  bantuan.append(a)\n",
        "\n",
        "bantuan = sorted(list(zip(bantuan,df.Id)),  reverse=True)\n",
        "bantuan = [i[1] for i in bantuan]\n",
        "print('20 mahasiswa yang layak mendapatkan bantuan')\n",
        "print(bantuan[:20])\n",
        "pd.DataFrame(bantuan[:20]).to_excel('Bantuan.xlsx', header=False, index=False)"
      ],
      "execution_count": 76,
      "outputs": [
        {
          "output_type": "stream",
          "text": [
            "20 mahasiswa yang layak mendapatkan bantuan\n",
            "[97, 98, 96, 95, 92, 90, 88, 83, 82, 77, 65, 64, 62, 58, 57, 55, 54, 45, 44, 43]\n"
          ],
          "name": "stdout"
        }
      ]
    }
  ]
}